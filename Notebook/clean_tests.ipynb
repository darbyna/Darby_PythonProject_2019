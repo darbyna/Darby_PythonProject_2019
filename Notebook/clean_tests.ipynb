{
 "cells": [
  {
   "cell_type": "code",
   "execution_count": null,
   "metadata": {},
   "outputs": [
    {
     "name": "stdout",
     "output_type": "stream",
     "text": [
      "Hello Warriors. Welcome to 'Loz'. Here you will be introduced to a band of heroic warriors known as the Zerxocia. The Zerxocia's arch nemesis, the Pileqs, have decided to begin their conquest of the Universe of Loz. Thus far, the Pileqs have raided several planets for their gold-like substance called 'Xono-rex'. Proceeding each raid, the Pileqs would destroy each planet and insert the Xono-rex into their super-ship, called the Lone-King, to power it. The Lone-King is said to be able to destroy two universes with one blast of its' omega-cannon. It is up to the Zerxocia to stop the Pileqs from obtaining Xono-rex and destroying planets in order to save both their own universe and those surrounding. My name is Niko Darby and I am the creator of this adventure, the overseer of the Universe of Loz. Enjoy.\n",
      "\u001b[33mNOTE TO PLAYERS: Be certain to answer each scenario in the exact spelling and format as provided. Have a grand adventure!\n",
      "\u001b[0m\n"
     ]
    }
   ],
   "source": [
    "%matplotlib inline\n",
    "\n",
    "import os, sys\n",
    "sys.path.insert(0, os.path.abspath(\"..\"))\n",
    "import Darby_PythonProject_2019v2\n",
    "\n",
    "from Darby_PythonProject_2019v2 import imports_necessary\n",
    "from Darby_PythonProject_2019v2 import functions_necessary \n",
    "import colorama \n",
    "from colorama import Fore, Style\n",
    "from Darby_PythonProject_2019v2 import dt\n",
    "\n",
    "print(dt.Introduction)\n",
    "print(Fore.YELLOW + dt.Notice)\n",
    "print(Style.RESET_ALL)\n",
    "\n",
    "from Darby_PythonProject_2019v2.functions_necessary import the_balance\n",
    "\n",
    "the_balance()\n",
    "\n",
    "#Run this in your notebook after installing the package."
   ]
  }
 ],
 "metadata": {
  "kernelspec": {
   "display_name": "Python 3",
   "language": "python",
   "name": "python3"
  },
  "language_info": {
   "codemirror_mode": {
    "name": "ipython",
    "version": 3
   },
   "file_extension": ".py",
   "mimetype": "text/x-python",
   "name": "python",
   "nbconvert_exporter": "python",
   "pygments_lexer": "ipython3",
   "version": "3.7.6"
  }
 },
 "nbformat": 4,
 "nbformat_minor": 2
}
